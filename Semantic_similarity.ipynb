{
 "cells": [
  {
   "cell_type": "code",
   "execution_count": 1,
   "metadata": {},
   "outputs": [],
   "source": [
    "import pandas as pd\n",
    "import numpy as np\n",
    "from sklearn.metrics.pairwise import cosine_similarity\n",
    "from nltk.corpus import stopwords\n",
    "from sklearn.feature_extraction.text import CountVectorizer\n",
    "import re"
   ]
  },
  {
   "cell_type": "code",
   "execution_count": 2,
   "metadata": {},
   "outputs": [],
   "source": [
    "df = pd.read_csv('../DataSets/Precily_Text_Similarity.csv')"
   ]
  },
  {
   "cell_type": "code",
   "execution_count": 3,
   "metadata": {
    "scrolled": true
   },
   "outputs": [
    {
     "data": {
      "text/html": [
       "<div>\n",
       "<style scoped>\n",
       "    .dataframe tbody tr th:only-of-type {\n",
       "        vertical-align: middle;\n",
       "    }\n",
       "\n",
       "    .dataframe tbody tr th {\n",
       "        vertical-align: top;\n",
       "    }\n",
       "\n",
       "    .dataframe thead th {\n",
       "        text-align: right;\n",
       "    }\n",
       "</style>\n",
       "<table border=\"1\" class=\"dataframe\">\n",
       "  <thead>\n",
       "    <tr style=\"text-align: right;\">\n",
       "      <th></th>\n",
       "      <th>text1</th>\n",
       "      <th>text2</th>\n",
       "    </tr>\n",
       "  </thead>\n",
       "  <tbody>\n",
       "    <tr>\n",
       "      <th>0</th>\n",
       "      <td>broadband challenges tv viewing the number of ...</td>\n",
       "      <td>gardener wins double in glasgow britain s jaso...</td>\n",
       "    </tr>\n",
       "    <tr>\n",
       "      <th>1</th>\n",
       "      <td>rap boss arrested over drug find rap mogul mar...</td>\n",
       "      <td>amnesty chief laments war failure the lack of ...</td>\n",
       "    </tr>\n",
       "    <tr>\n",
       "      <th>2</th>\n",
       "      <td>player burn-out worries robinson england coach...</td>\n",
       "      <td>hanks greeted at wintry premiere hollywood sta...</td>\n",
       "    </tr>\n",
       "    <tr>\n",
       "      <th>3</th>\n",
       "      <td>hearts of oak 3-2 cotonsport hearts of oak set...</td>\n",
       "      <td>redford s vision of sundance despite sporting ...</td>\n",
       "    </tr>\n",
       "    <tr>\n",
       "      <th>4</th>\n",
       "      <td>sir paul rocks super bowl crowds sir paul mcca...</td>\n",
       "      <td>mauresmo opens with victory in la amelie maure...</td>\n",
       "    </tr>\n",
       "  </tbody>\n",
       "</table>\n",
       "</div>"
      ],
      "text/plain": [
       "                                               text1  \\\n",
       "0  broadband challenges tv viewing the number of ...   \n",
       "1  rap boss arrested over drug find rap mogul mar...   \n",
       "2  player burn-out worries robinson england coach...   \n",
       "3  hearts of oak 3-2 cotonsport hearts of oak set...   \n",
       "4  sir paul rocks super bowl crowds sir paul mcca...   \n",
       "\n",
       "                                               text2  \n",
       "0  gardener wins double in glasgow britain s jaso...  \n",
       "1  amnesty chief laments war failure the lack of ...  \n",
       "2  hanks greeted at wintry premiere hollywood sta...  \n",
       "3  redford s vision of sundance despite sporting ...  \n",
       "4  mauresmo opens with victory in la amelie maure...  "
      ]
     },
     "execution_count": 3,
     "metadata": {},
     "output_type": "execute_result"
    }
   ],
   "source": [
    "df.head()"
   ]
  },
  {
   "cell_type": "code",
   "execution_count": 4,
   "metadata": {
    "scrolled": true
   },
   "outputs": [
    {
     "data": {
      "text/plain": [
       "'us adds more jobs than expected the us economy added 337 000 jobs in october - a seven-month high and far more than wall street expectations.  in a welcome economic boost for newly re-elected president george w bush  the labor department figures come after a slow summer of weak jobs gains. jobs were created in every sector of the us economy except manufacturing. while the separate unemployment rate went up to 5.5% from 5.4% in september  this was because more people were now actively seeking work.  the 337 000 new jobs added to us payrolls in october was twice the 169 000 figure that wall street economists had forecast. in addition  the labor department revised up the number of jobs created in the two previous months - to 139 000 in september instead of 96 000  and to 198 000 in august instead of 128 000. the better than expected jobs data had an immediate upward effect on stocks in new york  with the main dow jones index gaining 45.4 points to 10 360 by late morning trading.  it looks like the job situation is improving and that this will support consumer spending going into the holidays  and offset some of the drag caused by high oil prices this year   said economist gary thayer of ag edwards & sons.  other analysts said the upbeat jobs data made it more likely that the us federal reserve would increase interest rates by a quarter of a percentage point to 2% when it meets next week.  it should empower the fed to clearly do something   said robert macintosh  chief economist with eaton vance management in boston. kathleen utgoff  commissioner of the bureau of labor  said many of the 71 000 new construction jobs added in october were involved in rebuilding and clean-up work in florida  and neighbouring deep south states  following four hurricanes in august and september. the dollar rose temporarily on the job creation news before falling back to a new record low against the euro  as investors returned their attention to other economic factors  such as the us s record trade deficit. there is also speculation that president bush will deliberately try to keep the dollar low in order to assist a growth in exports.'"
      ]
     },
     "execution_count": 4,
     "metadata": {},
     "output_type": "execute_result"
    }
   ],
   "source": [
    "df['text1'][226]"
   ]
  },
  {
   "cell_type": "code",
   "execution_count": 5,
   "metadata": {},
   "outputs": [
    {
     "data": {
      "text/plain": [
       "'consumer spending lifts us growth us economic growth accelerated in the third quarter  helped by strong consumer spending  official figures have shown.  the economy expanded at an annual rate of 3.7% in the july to september period  the commerce department said. the figure marked an increase on the 3.3% growth recorded in the second quarter  but fell short of the 4.2% rate pencilled in by forecasters. the increase reflected the biggest jump in consumer spending in a year.  it was a little softer than the consensus  but not a real surprise   said gary thayer  an economist at ag edwards & sons. friday s growth estimate is one of the last significant pieces of economic data before the 2 november presidential election.  democrat challenger john kerry has criticised president george w bush s handling of the economy  pointing to a net loss of over 800 000 jobs since mr bush took office. analysts said the economy was still not growing fast enough to stimulate large-scale job creation.  it s a pretty good growth rate  but it may not be good enough to create enough jobs   said robert brusca  chief economist at fact and opinion economics in new york. however  president bush is expected to point to commerce department figures showing that consumer spending grew at 4.6% in the third quarter  up from just 1.6% in the second  as evidence that his policies are generating solid growth. consumer spending accounts for about two thirds of all economic activity in the us.  the weaker than expected growth figure makes it less likely that the us federal reserve will raise interest rates next month  economists said.  the economy regained some traction in the third quarter  but the growth is not robust   ag edwards  thayer.  i think that means the fed can take its time raising rates. we ll probably see one more rate hike before the end of the year.  in an effort to pre-empt rising inflation  the federal reserve has pushed through three quarter-point rate rises since june this year  taking borrowing costs to 1.75%. on the financial markets  the dollar fell slightly against the euro and the yen  while the dow jones index of leading us shares was little changed.'"
      ]
     },
     "execution_count": 5,
     "metadata": {},
     "output_type": "execute_result"
    }
   ],
   "source": [
    "df['text2'][226]"
   ]
  },
  {
   "cell_type": "code",
   "execution_count": 6,
   "metadata": {},
   "outputs": [
    {
     "name": "stdout",
     "output_type": "stream",
     "text": [
      "<class 'pandas.core.frame.DataFrame'>\n",
      "RangeIndex: 3000 entries, 0 to 2999\n",
      "Data columns (total 2 columns):\n",
      "text1    3000 non-null object\n",
      "text2    3000 non-null object\n",
      "dtypes: object(2)\n",
      "memory usage: 47.0+ KB\n"
     ]
    }
   ],
   "source": [
    "df.info()"
   ]
  },
  {
   "cell_type": "code",
   "execution_count": 7,
   "metadata": {
    "scrolled": true
   },
   "outputs": [
    {
     "data": {
      "text/plain": [
       "text1    0\n",
       "text2    0\n",
       "dtype: int64"
      ]
     },
     "execution_count": 7,
     "metadata": {},
     "output_type": "execute_result"
    }
   ],
   "source": [
    "df.isnull().sum()"
   ]
  },
  {
   "cell_type": "markdown",
   "metadata": {},
   "source": [
    "# Text Preprocessing"
   ]
  },
  {
   "cell_type": "code",
   "execution_count": 8,
   "metadata": {},
   "outputs": [],
   "source": [
    "def non_ascii(text):\n",
    "    return \"\".join(i for i in text if ord(i)<128)"
   ]
  },
  {
   "cell_type": "code",
   "execution_count": 9,
   "metadata": {},
   "outputs": [],
   "source": [
    "def remove_special_chars(text):\n",
    "    chars = r'[^a-zA-Z0-9.,!?/:;\\'\\\"\\s]'\n",
    "    return re.sub(chars,'',text)"
   ]
  },
  {
   "cell_type": "code",
   "execution_count": 10,
   "metadata": {},
   "outputs": [],
   "source": [
    "def lower(text):\n",
    "  return text.lower()"
   ]
  },
  {
   "cell_type": "code",
   "execution_count": 11,
   "metadata": {},
   "outputs": [],
   "source": [
    "def removeStopWords(str):\n",
    "#select english stopwords\n",
    "  cachedStopWords = set(stopwords.words(\"english\"))\n",
    "#add custom words\n",
    "  cachedStopWords.update(('and','I','A','http','And','So','arnt','This','When','It','many','Many','so','cant','Yes','yes','No','no','These','these','mailto','regards','ayanna','like','email'))\n",
    "#remove stop words\n",
    "  new_str = ' '.join([word for word in str.split() if word not in cachedStopWords]) \n",
    "  return new_str"
   ]
  },
  {
   "cell_type": "code",
   "execution_count": 12,
   "metadata": {},
   "outputs": [],
   "source": [
    "df['new_text1'] = df.text1.apply(func= non_ascii)\n",
    "df['new_text1'] = df.new_text1.apply(func= remove_special_chars)\n",
    "df['new_text1'] = df.new_text1.apply(func= removeStopWords)"
   ]
  },
  {
   "cell_type": "code",
   "execution_count": 13,
   "metadata": {},
   "outputs": [],
   "source": [
    "df['new_text2'] = df.text2.apply(func= non_ascii)\n",
    "df['new_text2'] = df.new_text2.apply(func= remove_special_chars)\n",
    "df['new_text2'] = df.new_text2.apply(func= removeStopWords)"
   ]
  },
  {
   "cell_type": "markdown",
   "metadata": {},
   "source": [
    "## Tokenization and stemming"
   ]
  },
  {
   "cell_type": "code",
   "execution_count": 14,
   "metadata": {},
   "outputs": [],
   "source": [
    "from nltk.tokenize import word_tokenize\n",
    "from nltk.stem import PorterStemmer\n",
    "Port_stem = PorterStemmer()"
   ]
  },
  {
   "cell_type": "code",
   "execution_count": 15,
   "metadata": {},
   "outputs": [],
   "source": [
    "def token_stemming(text):\n",
    "    tokens = word_tokenize(text)\n",
    "    stemmed_tokens = ' '.join([Port_stem.stem(w) for w in tokens])\n",
    "    return stemmed_tokens"
   ]
  },
  {
   "cell_type": "code",
   "execution_count": 16,
   "metadata": {},
   "outputs": [],
   "source": [
    "df['new_text1'] = df.new_text1.apply(func= token_stemming)"
   ]
  },
  {
   "cell_type": "code",
   "execution_count": 17,
   "metadata": {},
   "outputs": [],
   "source": [
    "df['new_text2'] = df.new_text2.apply(func= token_stemming)"
   ]
  },
  {
   "cell_type": "code",
   "execution_count": 18,
   "metadata": {
    "scrolled": true
   },
   "outputs": [
    {
     "data": {
      "text/html": [
       "<div>\n",
       "<style scoped>\n",
       "    .dataframe tbody tr th:only-of-type {\n",
       "        vertical-align: middle;\n",
       "    }\n",
       "\n",
       "    .dataframe tbody tr th {\n",
       "        vertical-align: top;\n",
       "    }\n",
       "\n",
       "    .dataframe thead th {\n",
       "        text-align: right;\n",
       "    }\n",
       "</style>\n",
       "<table border=\"1\" class=\"dataframe\">\n",
       "  <thead>\n",
       "    <tr style=\"text-align: right;\">\n",
       "      <th></th>\n",
       "      <th>text1</th>\n",
       "      <th>text2</th>\n",
       "      <th>new_text1</th>\n",
       "      <th>new_text2</th>\n",
       "    </tr>\n",
       "  </thead>\n",
       "  <tbody>\n",
       "    <tr>\n",
       "      <th>0</th>\n",
       "      <td>broadband challenges tv viewing the number of ...</td>\n",
       "      <td>gardener wins double in glasgow britain s jaso...</td>\n",
       "      <td>broadband challeng tv view number european bro...</td>\n",
       "      <td>garden win doubl glasgow britain jason garden ...</td>\n",
       "    </tr>\n",
       "    <tr>\n",
       "      <th>1</th>\n",
       "      <td>rap boss arrested over drug find rap mogul mar...</td>\n",
       "      <td>amnesty chief laments war failure the lack of ...</td>\n",
       "      <td>rap boss arrest drug find rap mogul marion sug...</td>\n",
       "      <td>amnesti chief lament war failur lack public ou...</td>\n",
       "    </tr>\n",
       "    <tr>\n",
       "      <th>2</th>\n",
       "      <td>player burn-out worries robinson england coach...</td>\n",
       "      <td>hanks greeted at wintry premiere hollywood sta...</td>\n",
       "      <td>player burnout worri robinson england coach an...</td>\n",
       "      <td>hank greet wintri premier hollywood star tom h...</td>\n",
       "    </tr>\n",
       "    <tr>\n",
       "      <th>3</th>\n",
       "      <td>hearts of oak 3-2 cotonsport hearts of oak set...</td>\n",
       "      <td>redford s vision of sundance despite sporting ...</td>\n",
       "      <td>heart oak 32 cotonsport heart oak set ghanaian...</td>\n",
       "      <td>redford vision sundanc despit sport corduroy c...</td>\n",
       "    </tr>\n",
       "    <tr>\n",
       "      <th>4</th>\n",
       "      <td>sir paul rocks super bowl crowds sir paul mcca...</td>\n",
       "      <td>mauresmo opens with victory in la amelie maure...</td>\n",
       "      <td>sir paul rock super bowl crowd sir paul mccart...</td>\n",
       "      <td>mauresmo open victori la ameli mauresmo maria ...</td>\n",
       "    </tr>\n",
       "  </tbody>\n",
       "</table>\n",
       "</div>"
      ],
      "text/plain": [
       "                                               text1  \\\n",
       "0  broadband challenges tv viewing the number of ...   \n",
       "1  rap boss arrested over drug find rap mogul mar...   \n",
       "2  player burn-out worries robinson england coach...   \n",
       "3  hearts of oak 3-2 cotonsport hearts of oak set...   \n",
       "4  sir paul rocks super bowl crowds sir paul mcca...   \n",
       "\n",
       "                                               text2  \\\n",
       "0  gardener wins double in glasgow britain s jaso...   \n",
       "1  amnesty chief laments war failure the lack of ...   \n",
       "2  hanks greeted at wintry premiere hollywood sta...   \n",
       "3  redford s vision of sundance despite sporting ...   \n",
       "4  mauresmo opens with victory in la amelie maure...   \n",
       "\n",
       "                                           new_text1  \\\n",
       "0  broadband challeng tv view number european bro...   \n",
       "1  rap boss arrest drug find rap mogul marion sug...   \n",
       "2  player burnout worri robinson england coach an...   \n",
       "3  heart oak 32 cotonsport heart oak set ghanaian...   \n",
       "4  sir paul rock super bowl crowd sir paul mccart...   \n",
       "\n",
       "                                           new_text2  \n",
       "0  garden win doubl glasgow britain jason garden ...  \n",
       "1  amnesti chief lament war failur lack public ou...  \n",
       "2  hank greet wintri premier hollywood star tom h...  \n",
       "3  redford vision sundanc despit sport corduroy c...  \n",
       "4  mauresmo open victori la ameli mauresmo maria ...  "
      ]
     },
     "execution_count": 18,
     "metadata": {},
     "output_type": "execute_result"
    }
   ],
   "source": [
    "df.head()"
   ]
  },
  {
   "cell_type": "markdown",
   "metadata": {},
   "source": [
    "# Bag of words  \n",
    "### Count Vectorization\n",
    "### predicting score using cosine similarity"
   ]
  },
  {
   "cell_type": "code",
   "execution_count": 19,
   "metadata": {},
   "outputs": [],
   "source": [
    "ans = []\n",
    "for i in range(len(df)):\n",
    "    documents = [df['new_text1'][i], df['new_text2'][i]]\n",
    "    count_vectorizer =CountVectorizer(stop_words='english')\n",
    "    sparse_matrix = count_vectorizer.fit_transform(documents)\n",
    "    doc_term_matrix = sparse_matrix.todense()\n",
    "    dd = pd.DataFrame(doc_term_matrix, columns=count_vectorizer.get_feature_names(), index=['x','y'])\n",
    "    ans.append(cosine_similarity(dd, dd)[0,1])\n",
    "    "
   ]
  },
  {
   "cell_type": "code",
   "execution_count": null,
   "metadata": {},
   "outputs": [],
   "source": [
    "doc_term_matrix"
   ]
  },
  {
   "cell_type": "code",
   "execution_count": 20,
   "metadata": {},
   "outputs": [],
   "source": [
    "Ans = pd.DataFrame(ans, columns = ['Similarity_Score'])"
   ]
  },
  {
   "cell_type": "code",
   "execution_count": 21,
   "metadata": {},
   "outputs": [],
   "source": [
    "df = df.join(Ans)"
   ]
  },
  {
   "cell_type": "code",
   "execution_count": 22,
   "metadata": {},
   "outputs": [
    {
     "data": {
      "text/plain": [
       "2820    1.000000\n",
       "2304    1.000000\n",
       "114     0.507785\n",
       "226     0.425008\n",
       "251     0.413211\n",
       "2200    0.407152\n",
       "1725    0.394969\n",
       "667     0.390789\n",
       "2113    0.376195\n",
       "837     0.372825\n",
       "Name: Similarity_Score, dtype: float64"
      ]
     },
     "execution_count": 22,
     "metadata": {},
     "output_type": "execute_result"
    }
   ],
   "source": [
    "large = df.Similarity_Score.nlargest(10)\n",
    "large"
   ]
  },
  {
   "cell_type": "code",
   "execution_count": 23,
   "metadata": {},
   "outputs": [
    {
     "data": {
      "text/plain": [
       "1034    0.000000\n",
       "1052    0.000000\n",
       "1509    0.000000\n",
       "1773    0.000000\n",
       "2102    0.000000\n",
       "2118    0.000000\n",
       "2266    0.000000\n",
       "2357    0.002068\n",
       "2085    0.002392\n",
       "89      0.002418\n",
       "Name: Similarity_Score, dtype: float64"
      ]
     },
     "execution_count": 23,
     "metadata": {},
     "output_type": "execute_result"
    }
   ],
   "source": [
    "df.Similarity_Score.nsmallest(10)"
   ]
  },
  {
   "cell_type": "code",
   "execution_count": 24,
   "metadata": {},
   "outputs": [],
   "source": [
    "dt = df.drop(columns=['text1','text2'])"
   ]
  },
  {
   "cell_type": "code",
   "execution_count": 25,
   "metadata": {
    "scrolled": true
   },
   "outputs": [
    {
     "data": {
      "text/html": [
       "<div>\n",
       "<style scoped>\n",
       "    .dataframe tbody tr th:only-of-type {\n",
       "        vertical-align: middle;\n",
       "    }\n",
       "\n",
       "    .dataframe tbody tr th {\n",
       "        vertical-align: top;\n",
       "    }\n",
       "\n",
       "    .dataframe thead th {\n",
       "        text-align: right;\n",
       "    }\n",
       "</style>\n",
       "<table border=\"1\" class=\"dataframe\">\n",
       "  <thead>\n",
       "    <tr style=\"text-align: right;\">\n",
       "      <th></th>\n",
       "      <th>new_text1</th>\n",
       "      <th>new_text2</th>\n",
       "      <th>Similarity_Score</th>\n",
       "    </tr>\n",
       "  </thead>\n",
       "  <tbody>\n",
       "    <tr>\n",
       "      <th>0</th>\n",
       "      <td>broadband challeng tv view number european bro...</td>\n",
       "      <td>garden win doubl glasgow britain jason garden ...</td>\n",
       "      <td>0.102075</td>\n",
       "    </tr>\n",
       "    <tr>\n",
       "      <th>1</th>\n",
       "      <td>rap boss arrest drug find rap mogul marion sug...</td>\n",
       "      <td>amnesti chief lament war failur lack public ou...</td>\n",
       "      <td>0.033114</td>\n",
       "    </tr>\n",
       "    <tr>\n",
       "      <th>2</th>\n",
       "      <td>player burnout worri robinson england coach an...</td>\n",
       "      <td>hank greet wintri premier hollywood star tom h...</td>\n",
       "      <td>0.045743</td>\n",
       "    </tr>\n",
       "    <tr>\n",
       "      <th>3</th>\n",
       "      <td>heart oak 32 cotonsport heart oak set ghanaian...</td>\n",
       "      <td>redford vision sundanc despit sport corduroy c...</td>\n",
       "      <td>0.026802</td>\n",
       "    </tr>\n",
       "    <tr>\n",
       "      <th>4</th>\n",
       "      <td>sir paul rock super bowl crowd sir paul mccart...</td>\n",
       "      <td>mauresmo open victori la ameli mauresmo maria ...</td>\n",
       "      <td>0.077124</td>\n",
       "    </tr>\n",
       "    <tr>\n",
       "      <th>5</th>\n",
       "      <td>india deport bollywood actress india order dep...</td>\n",
       "      <td>foster buy stake winemak australian brewer fos...</td>\n",
       "      <td>0.069907</td>\n",
       "    </tr>\n",
       "    <tr>\n",
       "      <th>6</th>\n",
       "      <td>mutant book win guardian prize book evolut mut...</td>\n",
       "      <td>jp morgan admit us slaveri link thousand slave...</td>\n",
       "      <td>0.038455</td>\n",
       "    </tr>\n",
       "    <tr>\n",
       "      <th>7</th>\n",
       "      <td>aid climat top davo agenda climat chang fight ...</td>\n",
       "      <td>howl help boost japan cinema japan box offic r...</td>\n",
       "      <td>0.060780</td>\n",
       "    </tr>\n",
       "    <tr>\n",
       "      <th>8</th>\n",
       "      <td>kennedi predict bigger turnout voter pent pass...</td>\n",
       "      <td>ocean twelv raid box offic ocean twelv crime c...</td>\n",
       "      <td>0.029035</td>\n",
       "    </tr>\n",
       "    <tr>\n",
       "      <th>9</th>\n",
       "      <td>carri star patsi rowland die actress patsi row...</td>\n",
       "      <td>uk broadband get speed inject broadband rapid ...</td>\n",
       "      <td>0.077380</td>\n",
       "    </tr>\n",
       "    <tr>\n",
       "      <th>10</th>\n",
       "      <td>lion blow world cup winner british irish lion ...</td>\n",
       "      <td>protect whistleblow tuc say govern chang law g...</td>\n",
       "      <td>0.082843</td>\n",
       "    </tr>\n",
       "    <tr>\n",
       "      <th>11</th>\n",
       "      <td>speech take search engin scottish firm look at...</td>\n",
       "      <td>lennon brand ranger favourit celtic neil lenno...</td>\n",
       "      <td>0.080676</td>\n",
       "    </tr>\n",
       "    <tr>\n",
       "      <th>12</th>\n",
       "      <td>bbc pour 9m new comedi bbc invest 9m develop n...</td>\n",
       "      <td>unilev shake profit slip anglodutch consum goo...</td>\n",
       "      <td>0.214324</td>\n",
       "    </tr>\n",
       "    <tr>\n",
       "      <th>13</th>\n",
       "      <td>gerrard play european hope steven gerrard admi...</td>\n",
       "      <td>game firm face tough futur uk video game firm ...</td>\n",
       "      <td>0.061365</td>\n",
       "    </tr>\n",
       "    <tr>\n",
       "      <th>14</th>\n",
       "      <td>pearc keen succeed keegan joint assist boss st...</td>\n",
       "      <td>cactu diet deal phytopharm slim aid made south...</td>\n",
       "      <td>0.037588</td>\n",
       "    </tr>\n",
       "    <tr>\n",
       "      <th>15</th>\n",
       "      <td>conserv back id card tori back controversi gov...</td>\n",
       "      <td>buffi creator join wonder woman creator buffi ...</td>\n",
       "      <td>0.042143</td>\n",
       "    </tr>\n",
       "    <tr>\n",
       "      <th>16</th>\n",
       "      <td>playstat 3 processor unveil cell processor dri...</td>\n",
       "      <td>search war hit desktop pc anoth front ongo bat...</td>\n",
       "      <td>0.148630</td>\n",
       "    </tr>\n",
       "    <tr>\n",
       "      <th>17</th>\n",
       "      <td>podcast look net money nasa 14yearold boy bedr...</td>\n",
       "      <td>appl mac mini get warm welcom mac mini welcom ...</td>\n",
       "      <td>0.119430</td>\n",
       "    </tr>\n",
       "    <tr>\n",
       "      <th>18</th>\n",
       "      <td>dozen held id fraud site twentyeight peopl inc...</td>\n",
       "      <td>europ back digit tv lifestyl peopl receiv digi...</td>\n",
       "      <td>0.087375</td>\n",
       "    </tr>\n",
       "    <tr>\n",
       "      <th>19</th>\n",
       "      <td>kennedi predict bigger turnout voter pent pass...</td>\n",
       "      <td>van gogh festiv film withdrawn murder director...</td>\n",
       "      <td>0.047899</td>\n",
       "    </tr>\n",
       "    <tr>\n",
       "      <th>20</th>\n",
       "      <td>chancellor ralli labour voter gordon brown iss...</td>\n",
       "      <td>microsoft set sight spywar window user could s...</td>\n",
       "      <td>0.099842</td>\n",
       "    </tr>\n",
       "    <tr>\n",
       "      <th>21</th>\n",
       "      <td>savvi searcher fail spot ad internet search en...</td>\n",
       "      <td>moor question captainci brian moor believ engl...</td>\n",
       "      <td>0.044924</td>\n",
       "    </tr>\n",
       "    <tr>\n",
       "      <th>22</th>\n",
       "      <td>secur warn fbi viru us feder bureau investig w...</td>\n",
       "      <td>man utd open book glazer manchest unit board a...</td>\n",
       "      <td>0.053351</td>\n",
       "    </tr>\n",
       "    <tr>\n",
       "      <th>23</th>\n",
       "      <td>imf cut german growth estim intern monetari fu...</td>\n",
       "      <td>incred win anim award incred movi beaten shrek...</td>\n",
       "      <td>0.021836</td>\n",
       "    </tr>\n",
       "    <tr>\n",
       "      <th>24</th>\n",
       "      <td>quiksilv move rossignol share ski rossignol wo...</td>\n",
       "      <td>ea take film tv giant video game giant electro...</td>\n",
       "      <td>0.111468</td>\n",
       "    </tr>\n",
       "    <tr>\n",
       "      <th>25</th>\n",
       "      <td>sir paul rock super bowl crowd sir paul mccart...</td>\n",
       "      <td>ms cut price averag 24 mark spencer cut price ...</td>\n",
       "      <td>0.044655</td>\n",
       "    </tr>\n",
       "    <tr>\n",
       "      <th>26</th>\n",
       "      <td>doubl injuri blow strike wale wale centr sonni...</td>\n",
       "      <td>steadi job growth continu us us creat fewer jo...</td>\n",
       "      <td>0.046029</td>\n",
       "    </tr>\n",
       "    <tr>\n",
       "      <th>27</th>\n",
       "      <td>new foot mouth action urg senior tori mp criti...</td>\n",
       "      <td>barbarian 1947 new zealand new zealand prove s...</td>\n",
       "      <td>0.077053</td>\n",
       "    </tr>\n",
       "    <tr>\n",
       "      <th>28</th>\n",
       "      <td>uk firm embrac ecommerc uk firm embrac interne...</td>\n",
       "      <td>eminem secret gig venu reveal rapper eminem pl...</td>\n",
       "      <td>0.078553</td>\n",
       "    </tr>\n",
       "    <tr>\n",
       "      <th>29</th>\n",
       "      <td>john peel replac show begin perman replac late...</td>\n",
       "      <td>cactu diet deal phytopharm slim aid made south...</td>\n",
       "      <td>0.035942</td>\n",
       "    </tr>\n",
       "    <tr>\n",
       "      <th>...</th>\n",
       "      <td>...</td>\n",
       "      <td>...</td>\n",
       "      <td>...</td>\n",
       "    </tr>\n",
       "    <tr>\n",
       "      <th>2970</th>\n",
       "      <td>crude oil price back 50 cold weather across pa...</td>\n",
       "      <td>whitehal shred increas tori civil servant dras...</td>\n",
       "      <td>0.114069</td>\n",
       "    </tr>\n",
       "    <tr>\n",
       "      <th>2971</th>\n",
       "      <td>everton weir cool euro hope everton defend dav...</td>\n",
       "      <td>russia wto talk make progress talk russia prop...</td>\n",
       "      <td>0.131193</td>\n",
       "    </tr>\n",
       "    <tr>\n",
       "      <th>2972</th>\n",
       "      <td>mobil multimedia slow catch doubt mobil phone ...</td>\n",
       "      <td>qwest may spark mci bid war us phone compani q...</td>\n",
       "      <td>0.128177</td>\n",
       "    </tr>\n",
       "    <tr>\n",
       "      <th>2973</th>\n",
       "      <td>church urg nelli show boycott church minist tr...</td>\n",
       "      <td>labour four littl word labour unveil four litt...</td>\n",
       "      <td>0.067643</td>\n",
       "    </tr>\n",
       "    <tr>\n",
       "      <th>2974</th>\n",
       "      <td>william battl aussi titl serena william stage ...</td>\n",
       "      <td>russian exspi hunger strike exrussian intellig...</td>\n",
       "      <td>0.088695</td>\n",
       "    </tr>\n",
       "    <tr>\n",
       "      <th>2975</th>\n",
       "      <td>tech help disabl speed demon organis launch en...</td>\n",
       "      <td>turkeyiran mobil deal risk turkey invest iran ...</td>\n",
       "      <td>0.059890</td>\n",
       "    </tr>\n",
       "    <tr>\n",
       "      <th>2976</th>\n",
       "      <td>howard attack cost asylum michael howard launc...</td>\n",
       "      <td>us compos recreat bach score us musicologist r...</td>\n",
       "      <td>0.089381</td>\n",
       "    </tr>\n",
       "    <tr>\n",
       "      <th>2977</th>\n",
       "      <td>fox reliant realiti tv head us tv network fox ...</td>\n",
       "      <td>market fall weak dollar fear rise oil price si...</td>\n",
       "      <td>0.106475</td>\n",
       "    </tr>\n",
       "    <tr>\n",
       "      <th>2978</th>\n",
       "      <td>drive save festiv holiday effort made protect ...</td>\n",
       "      <td>yangtz electr profit doubl yangtz electr power...</td>\n",
       "      <td>0.049811</td>\n",
       "    </tr>\n",
       "    <tr>\n",
       "      <th>2979</th>\n",
       "      <td>ban hit halflif 2 pirat hard 20 000 peopl ban ...</td>\n",
       "      <td>virgin radio offer 3g broadcast uk broadcast v...</td>\n",
       "      <td>0.104371</td>\n",
       "    </tr>\n",
       "    <tr>\n",
       "      <th>2980</th>\n",
       "      <td>faultless feder equal roger feder nice bloke f...</td>\n",
       "      <td>munster cup tie switch spain munster heineken ...</td>\n",
       "      <td>0.077988</td>\n",
       "    </tr>\n",
       "    <tr>\n",
       "      <th>2981</th>\n",
       "      <td>india russia energi talk india russia work tog...</td>\n",
       "      <td>emi share hit profit warn share music giant em...</td>\n",
       "      <td>0.109048</td>\n",
       "    </tr>\n",
       "    <tr>\n",
       "      <th>2982</th>\n",
       "      <td>spam email tempt net shopper comput user acros...</td>\n",
       "      <td>fa decid punish mourinho footbal associ take a...</td>\n",
       "      <td>0.015320</td>\n",
       "    </tr>\n",
       "    <tr>\n",
       "      <th>2983</th>\n",
       "      <td>visa row mandarin made sir john top civil serv...</td>\n",
       "      <td>chancellor ralli labour voter gordon brown iss...</td>\n",
       "      <td>0.163480</td>\n",
       "    </tr>\n",
       "    <tr>\n",
       "      <th>2984</th>\n",
       "      <td>hewitt fall dent lleyton hewitt suffer shock d...</td>\n",
       "      <td>ukrain revisit state selloff ukrain prepar cou...</td>\n",
       "      <td>0.042758</td>\n",
       "    </tr>\n",
       "    <tr>\n",
       "      <th>2985</th>\n",
       "      <td>soni ware win innov award soni taken prize top...</td>\n",
       "      <td>jackson film absolut disast pr expert told mic...</td>\n",
       "      <td>0.121426</td>\n",
       "    </tr>\n",
       "    <tr>\n",
       "      <th>2986</th>\n",
       "      <td>swiss cement firm buy spree swiss cement firm ...</td>\n",
       "      <td>uk useless quango fire uk 529 quango financ bi...</td>\n",
       "      <td>0.088759</td>\n",
       "    </tr>\n",
       "    <tr>\n",
       "      <th>2987</th>\n",
       "      <td>blair back preelect budget toni blair back cha...</td>\n",
       "      <td>us compani admit benin briberi us defenc telec...</td>\n",
       "      <td>0.102656</td>\n",
       "    </tr>\n",
       "    <tr>\n",
       "      <th>2988</th>\n",
       "      <td>bank set leav rate hold uk interest rate set r...</td>\n",
       "      <td>home loan approv rise number mortgag approv uk...</td>\n",
       "      <td>0.217064</td>\n",
       "    </tr>\n",
       "    <tr>\n",
       "      <th>2989</th>\n",
       "      <td>arci injuri add ireland woe gordon arci rule i...</td>\n",
       "      <td>kluft impress sotherton form olymp heptathlon ...</td>\n",
       "      <td>0.037023</td>\n",
       "    </tr>\n",
       "    <tr>\n",
       "      <th>2990</th>\n",
       "      <td>million miss net 2025 40 uk popul still withou...</td>\n",
       "      <td>rocker doherti onstag fight rock singer pete d...</td>\n",
       "      <td>0.036224</td>\n",
       "    </tr>\n",
       "    <tr>\n",
       "      <th>2991</th>\n",
       "      <td>candela complet bolton switch bolton boss sam ...</td>\n",
       "      <td>hagu sixfigur earn shown reward leav frontbenc...</td>\n",
       "      <td>0.043712</td>\n",
       "    </tr>\n",
       "    <tr>\n",
       "      <th>2992</th>\n",
       "      <td>moya fight back indian titl carlo moya becam f...</td>\n",
       "      <td>cairn share slump oil setback share cairn ener...</td>\n",
       "      <td>0.119895</td>\n",
       "    </tr>\n",
       "    <tr>\n",
       "      <th>2993</th>\n",
       "      <td>voter trust politician eight 10 voter trust po...</td>\n",
       "      <td>aviat win top globe accolad aviat name best fi...</td>\n",
       "      <td>0.052784</td>\n",
       "    </tr>\n",
       "    <tr>\n",
       "      <th>2994</th>\n",
       "      <td>uk youth interest polit major young peopl inte...</td>\n",
       "      <td>fear help franc laport franc coach bernard lap...</td>\n",
       "      <td>0.060886</td>\n",
       "    </tr>\n",
       "    <tr>\n",
       "      <th>2995</th>\n",
       "      <td>uk director guild nomine name martin scorses c...</td>\n",
       "      <td>steel firm cut 45 000 job mittal steel one wor...</td>\n",
       "      <td>0.009892</td>\n",
       "    </tr>\n",
       "    <tr>\n",
       "      <th>2996</th>\n",
       "      <td>u2 play grammi award show irish rock band u2 p...</td>\n",
       "      <td>israel look us bank chief israel ask us banker...</td>\n",
       "      <td>0.041412</td>\n",
       "    </tr>\n",
       "    <tr>\n",
       "      <th>2997</th>\n",
       "      <td>pountney hand ban fine northampton coach budg ...</td>\n",
       "      <td>india iran ga export deal india sign 40bn 21bn...</td>\n",
       "      <td>0.009332</td>\n",
       "    </tr>\n",
       "    <tr>\n",
       "      <th>2998</th>\n",
       "      <td>bell name best scottish band bell sebastian na...</td>\n",
       "      <td>mido make third apolog ahm mido hossam made an...</td>\n",
       "      <td>0.069586</td>\n",
       "    </tr>\n",
       "    <tr>\n",
       "      <th>2999</th>\n",
       "      <td>crimin probe citigroup deal trader us bank gia...</td>\n",
       "      <td>former ni minist scott die former northern ire...</td>\n",
       "      <td>0.050527</td>\n",
       "    </tr>\n",
       "  </tbody>\n",
       "</table>\n",
       "<p>3000 rows × 3 columns</p>\n",
       "</div>"
      ],
      "text/plain": [
       "                                              new_text1  \\\n",
       "0     broadband challeng tv view number european bro...   \n",
       "1     rap boss arrest drug find rap mogul marion sug...   \n",
       "2     player burnout worri robinson england coach an...   \n",
       "3     heart oak 32 cotonsport heart oak set ghanaian...   \n",
       "4     sir paul rock super bowl crowd sir paul mccart...   \n",
       "5     india deport bollywood actress india order dep...   \n",
       "6     mutant book win guardian prize book evolut mut...   \n",
       "7     aid climat top davo agenda climat chang fight ...   \n",
       "8     kennedi predict bigger turnout voter pent pass...   \n",
       "9     carri star patsi rowland die actress patsi row...   \n",
       "10    lion blow world cup winner british irish lion ...   \n",
       "11    speech take search engin scottish firm look at...   \n",
       "12    bbc pour 9m new comedi bbc invest 9m develop n...   \n",
       "13    gerrard play european hope steven gerrard admi...   \n",
       "14    pearc keen succeed keegan joint assist boss st...   \n",
       "15    conserv back id card tori back controversi gov...   \n",
       "16    playstat 3 processor unveil cell processor dri...   \n",
       "17    podcast look net money nasa 14yearold boy bedr...   \n",
       "18    dozen held id fraud site twentyeight peopl inc...   \n",
       "19    kennedi predict bigger turnout voter pent pass...   \n",
       "20    chancellor ralli labour voter gordon brown iss...   \n",
       "21    savvi searcher fail spot ad internet search en...   \n",
       "22    secur warn fbi viru us feder bureau investig w...   \n",
       "23    imf cut german growth estim intern monetari fu...   \n",
       "24    quiksilv move rossignol share ski rossignol wo...   \n",
       "25    sir paul rock super bowl crowd sir paul mccart...   \n",
       "26    doubl injuri blow strike wale wale centr sonni...   \n",
       "27    new foot mouth action urg senior tori mp criti...   \n",
       "28    uk firm embrac ecommerc uk firm embrac interne...   \n",
       "29    john peel replac show begin perman replac late...   \n",
       "...                                                 ...   \n",
       "2970  crude oil price back 50 cold weather across pa...   \n",
       "2971  everton weir cool euro hope everton defend dav...   \n",
       "2972  mobil multimedia slow catch doubt mobil phone ...   \n",
       "2973  church urg nelli show boycott church minist tr...   \n",
       "2974  william battl aussi titl serena william stage ...   \n",
       "2975  tech help disabl speed demon organis launch en...   \n",
       "2976  howard attack cost asylum michael howard launc...   \n",
       "2977  fox reliant realiti tv head us tv network fox ...   \n",
       "2978  drive save festiv holiday effort made protect ...   \n",
       "2979  ban hit halflif 2 pirat hard 20 000 peopl ban ...   \n",
       "2980  faultless feder equal roger feder nice bloke f...   \n",
       "2981  india russia energi talk india russia work tog...   \n",
       "2982  spam email tempt net shopper comput user acros...   \n",
       "2983  visa row mandarin made sir john top civil serv...   \n",
       "2984  hewitt fall dent lleyton hewitt suffer shock d...   \n",
       "2985  soni ware win innov award soni taken prize top...   \n",
       "2986  swiss cement firm buy spree swiss cement firm ...   \n",
       "2987  blair back preelect budget toni blair back cha...   \n",
       "2988  bank set leav rate hold uk interest rate set r...   \n",
       "2989  arci injuri add ireland woe gordon arci rule i...   \n",
       "2990  million miss net 2025 40 uk popul still withou...   \n",
       "2991  candela complet bolton switch bolton boss sam ...   \n",
       "2992  moya fight back indian titl carlo moya becam f...   \n",
       "2993  voter trust politician eight 10 voter trust po...   \n",
       "2994  uk youth interest polit major young peopl inte...   \n",
       "2995  uk director guild nomine name martin scorses c...   \n",
       "2996  u2 play grammi award show irish rock band u2 p...   \n",
       "2997  pountney hand ban fine northampton coach budg ...   \n",
       "2998  bell name best scottish band bell sebastian na...   \n",
       "2999  crimin probe citigroup deal trader us bank gia...   \n",
       "\n",
       "                                              new_text2  Similarity_Score  \n",
       "0     garden win doubl glasgow britain jason garden ...          0.102075  \n",
       "1     amnesti chief lament war failur lack public ou...          0.033114  \n",
       "2     hank greet wintri premier hollywood star tom h...          0.045743  \n",
       "3     redford vision sundanc despit sport corduroy c...          0.026802  \n",
       "4     mauresmo open victori la ameli mauresmo maria ...          0.077124  \n",
       "5     foster buy stake winemak australian brewer fos...          0.069907  \n",
       "6     jp morgan admit us slaveri link thousand slave...          0.038455  \n",
       "7     howl help boost japan cinema japan box offic r...          0.060780  \n",
       "8     ocean twelv raid box offic ocean twelv crime c...          0.029035  \n",
       "9     uk broadband get speed inject broadband rapid ...          0.077380  \n",
       "10    protect whistleblow tuc say govern chang law g...          0.082843  \n",
       "11    lennon brand ranger favourit celtic neil lenno...          0.080676  \n",
       "12    unilev shake profit slip anglodutch consum goo...          0.214324  \n",
       "13    game firm face tough futur uk video game firm ...          0.061365  \n",
       "14    cactu diet deal phytopharm slim aid made south...          0.037588  \n",
       "15    buffi creator join wonder woman creator buffi ...          0.042143  \n",
       "16    search war hit desktop pc anoth front ongo bat...          0.148630  \n",
       "17    appl mac mini get warm welcom mac mini welcom ...          0.119430  \n",
       "18    europ back digit tv lifestyl peopl receiv digi...          0.087375  \n",
       "19    van gogh festiv film withdrawn murder director...          0.047899  \n",
       "20    microsoft set sight spywar window user could s...          0.099842  \n",
       "21    moor question captainci brian moor believ engl...          0.044924  \n",
       "22    man utd open book glazer manchest unit board a...          0.053351  \n",
       "23    incred win anim award incred movi beaten shrek...          0.021836  \n",
       "24    ea take film tv giant video game giant electro...          0.111468  \n",
       "25    ms cut price averag 24 mark spencer cut price ...          0.044655  \n",
       "26    steadi job growth continu us us creat fewer jo...          0.046029  \n",
       "27    barbarian 1947 new zealand new zealand prove s...          0.077053  \n",
       "28    eminem secret gig venu reveal rapper eminem pl...          0.078553  \n",
       "29    cactu diet deal phytopharm slim aid made south...          0.035942  \n",
       "...                                                 ...               ...  \n",
       "2970  whitehal shred increas tori civil servant dras...          0.114069  \n",
       "2971  russia wto talk make progress talk russia prop...          0.131193  \n",
       "2972  qwest may spark mci bid war us phone compani q...          0.128177  \n",
       "2973  labour four littl word labour unveil four litt...          0.067643  \n",
       "2974  russian exspi hunger strike exrussian intellig...          0.088695  \n",
       "2975  turkeyiran mobil deal risk turkey invest iran ...          0.059890  \n",
       "2976  us compos recreat bach score us musicologist r...          0.089381  \n",
       "2977  market fall weak dollar fear rise oil price si...          0.106475  \n",
       "2978  yangtz electr profit doubl yangtz electr power...          0.049811  \n",
       "2979  virgin radio offer 3g broadcast uk broadcast v...          0.104371  \n",
       "2980  munster cup tie switch spain munster heineken ...          0.077988  \n",
       "2981  emi share hit profit warn share music giant em...          0.109048  \n",
       "2982  fa decid punish mourinho footbal associ take a...          0.015320  \n",
       "2983  chancellor ralli labour voter gordon brown iss...          0.163480  \n",
       "2984  ukrain revisit state selloff ukrain prepar cou...          0.042758  \n",
       "2985  jackson film absolut disast pr expert told mic...          0.121426  \n",
       "2986  uk useless quango fire uk 529 quango financ bi...          0.088759  \n",
       "2987  us compani admit benin briberi us defenc telec...          0.102656  \n",
       "2988  home loan approv rise number mortgag approv uk...          0.217064  \n",
       "2989  kluft impress sotherton form olymp heptathlon ...          0.037023  \n",
       "2990  rocker doherti onstag fight rock singer pete d...          0.036224  \n",
       "2991  hagu sixfigur earn shown reward leav frontbenc...          0.043712  \n",
       "2992  cairn share slump oil setback share cairn ener...          0.119895  \n",
       "2993  aviat win top globe accolad aviat name best fi...          0.052784  \n",
       "2994  fear help franc laport franc coach bernard lap...          0.060886  \n",
       "2995  steel firm cut 45 000 job mittal steel one wor...          0.009892  \n",
       "2996  israel look us bank chief israel ask us banker...          0.041412  \n",
       "2997  india iran ga export deal india sign 40bn 21bn...          0.009332  \n",
       "2998  mido make third apolog ahm mido hossam made an...          0.069586  \n",
       "2999  former ni minist scott die former northern ire...          0.050527  \n",
       "\n",
       "[3000 rows x 3 columns]"
      ]
     },
     "execution_count": 25,
     "metadata": {},
     "output_type": "execute_result"
    }
   ],
   "source": [
    "dt"
   ]
  },
  {
   "cell_type": "code",
   "execution_count": 26,
   "metadata": {},
   "outputs": [],
   "source": [
    "sent1 = \"hello... i know your favourite fruit is mango\"\n",
    "sent2 = \"hello.. i came to know that mango is your favourite fruit\""
   ]
  },
  {
   "cell_type": "code",
   "execution_count": 27,
   "metadata": {},
   "outputs": [],
   "source": [
    "def similarity(sent1,sent2):\n",
    "    sent1_na = non_ascii(sent1)\n",
    "    sent2_na = non_ascii(sent2)\n",
    "    sent1_rsc = remove_special_chars(sent1_na)\n",
    "    sent2_rsc = remove_special_chars(sent2_na)\n",
    "    low1 = lower(sent1_rsc)\n",
    "    low2 = lower(sent2_rsc)\n",
    "    stop1 = removeStopWords(low1)\n",
    "    stop2 = removeStopWords(low2)\n",
    "    token_stemming(stop1)\n",
    "    token_stemming(stop2)\n",
    "    documents = [sent1,sent2]\n",
    "    count_vectorizer =CountVectorizer(stop_words='english')\n",
    "    sparse_matrix = count_vectorizer.fit_transform(documents)\n",
    "    doc_term_matrix = sparse_matrix.todense()\n",
    "    dd = pd.DataFrame(doc_term_matrix, columns=count_vectorizer.get_feature_names(), index=['x','y'])\n",
    "    print(cosine_similarity(dd, dd)[0,1])"
   ]
  },
  {
   "cell_type": "code",
   "execution_count": 28,
   "metadata": {},
   "outputs": [
    {
     "name": "stdout",
     "output_type": "stream",
     "text": [
      "0.9128709291752769\n"
     ]
    }
   ],
   "source": [
    "similarity(sent1,sent2)"
   ]
  },
  {
   "cell_type": "code",
   "execution_count": 31,
   "metadata": {},
   "outputs": [
    {
     "data": {
      "text/plain": [
       "(2, 229)"
      ]
     },
     "execution_count": 31,
     "metadata": {},
     "output_type": "execute_result"
    }
   ],
   "source": [
    "sparse_matrix.shape"
   ]
  },
  {
   "cell_type": "code",
   "execution_count": 30,
   "metadata": {
    "scrolled": true
   },
   "outputs": [
    {
     "data": {
      "text/plain": [
       "matrix([[1, 1, 0, 0, 0, 0, 0, 1, 2, 1, 0, 0, 1, 1, 0, 1, 0, 1, 0, 0, 0,\n",
       "         0, 0, 1, 2, 1, 0, 0, 6, 3, 1, 0, 0, 3, 1, 0, 1, 0, 1, 0, 2, 0,\n",
       "         0, 0, 6, 0, 0, 0, 1, 0, 2, 0, 0, 0, 1, 0, 0, 1, 1, 1, 0, 4, 1,\n",
       "         1, 1, 0, 3, 0, 0, 0, 0, 0, 0, 0, 0, 0, 0, 0, 0, 0, 0, 1, 0, 0,\n",
       "         0, 0, 2, 0, 0, 0, 1, 0, 1, 1, 0, 2, 0, 0, 1, 1, 1, 0, 1, 0, 1,\n",
       "         1, 0, 2, 3, 1, 1, 1, 1, 0, 0, 0, 0, 0, 1, 0, 1, 1, 0, 0, 4, 1,\n",
       "         0, 0, 1, 1, 0, 0, 0, 1, 1, 1, 0, 1, 1, 0, 0, 0, 1, 2, 0, 2, 0,\n",
       "         0, 0, 0, 0, 1, 0, 0, 0, 0, 1, 0, 0, 0, 2, 0, 0, 1, 0, 0, 2, 0,\n",
       "         1, 1, 0, 5, 2, 1, 1, 0, 1, 2, 2, 0, 1, 0, 0, 1, 0, 0, 0, 1, 0,\n",
       "         5, 2, 1, 2, 0, 0, 0, 0, 1, 0, 0, 1, 0, 0, 0, 2, 0, 0, 0, 0, 0,\n",
       "         1, 0, 1, 1, 1, 0, 3, 2, 0, 1, 1, 0, 0, 0, 0, 1, 1, 1, 0],\n",
       "        [0, 0, 1, 1, 1, 1, 1, 0, 0, 0, 1, 1, 0, 1, 1, 0, 1, 0, 1, 1, 1,\n",
       "         1, 1, 0, 0, 0, 2, 1, 0, 0, 0, 1, 1, 0, 0, 1, 0, 1, 0, 1, 0, 1,\n",
       "         2, 1, 0, 1, 1, 1, 0, 1, 0, 1, 1, 1, 0, 1, 2, 0, 0, 0, 1, 0, 1,\n",
       "         0, 0, 1, 0, 1, 1, 1, 1, 1, 1, 2, 1, 1, 1, 1, 3, 4, 1, 0, 1, 1,\n",
       "         1, 2, 0, 1, 1, 1, 0, 1, 0, 0, 1, 0, 1, 1, 0, 0, 0, 1, 0, 1, 0,\n",
       "         0, 1, 0, 0, 0, 1, 0, 0, 1, 1, 1, 1, 1, 0, 1, 2, 0, 1, 1, 0, 1,\n",
       "         1, 4, 0, 0, 2, 2, 1, 2, 0, 0, 1, 0, 0, 1, 1, 1, 0, 0, 1, 0, 1,\n",
       "         1, 1, 1, 6, 0, 1, 1, 2, 1, 0, 1, 5, 4, 0, 1, 1, 0, 1, 1, 0, 1,\n",
       "         0, 0, 1, 0, 1, 0, 0, 1, 0, 0, 0, 1, 0, 1, 1, 0, 1, 2, 1, 0, 1,\n",
       "         1, 0, 0, 0, 1, 1, 2, 1, 1, 1, 1, 0, 5, 1, 1, 0, 1, 2, 1, 1, 1,\n",
       "         0, 1, 0, 0, 0, 2, 0, 0, 1, 0, 1, 3, 1, 2, 2, 0, 0, 0, 1]],\n",
       "       dtype=int64)"
      ]
     },
     "execution_count": 30,
     "metadata": {},
     "output_type": "execute_result"
    }
   ],
   "source": [
    "doc_term_matrix"
   ]
  },
  {
   "cell_type": "code",
   "execution_count": null,
   "metadata": {},
   "outputs": [],
   "source": [
    "dd"
   ]
  },
  {
   "cell_type": "markdown",
   "metadata": {},
   "source": [
    "## Designing web using Flask"
   ]
  },
  {
   "cell_type": "code",
   "execution_count": null,
   "metadata": {},
   "outputs": [
    {
     "name": "stdout",
     "output_type": "stream",
     "text": [
      " * Serving Flask app \"__main__\" (lazy loading)\n",
      " * Environment: production\n",
      "\u001b[31m   WARNING: Do not use the development server in a production environment.\u001b[0m\n",
      "\u001b[2m   Use a production WSGI server instead.\u001b[0m\n",
      " * Debug mode: on\n"
     ]
    },
    {
     "name": "stderr",
     "output_type": "stream",
     "text": [
      " * Running on http://127.0.0.1:5000/ (Press CTRL+C to quit)\n",
      "127.0.0.1 - - [07/Aug/2022 14:03:37] \"\u001b[37mGET / HTTP/1.1\u001b[0m\" 200 -\n",
      "127.0.0.1 - - [07/Aug/2022 14:03:55] \"\u001b[37mPOST /get_text HTTP/1.1\u001b[0m\" 200 -\n"
     ]
    }
   ],
   "source": [
    "from flask import Flask, request, render_template\n",
    "app = Flask(__name__)\n",
    "\n",
    "\n",
    "@app.route(\"/\")\n",
    "def home():\n",
    "    return render_template('index.html')\n",
    "\n",
    "@app.route('/get_text', methods=['POST'])\n",
    "\n",
    "def get_text():\n",
    "    output = request.form.to_dict()\n",
    "    sent1 = output[\"text1\"]\n",
    "    sent2 = output[\"text2\"]\n",
    "    sent1_na = non_ascii(sent1)\n",
    "    sent2_na = non_ascii(sent2)\n",
    "    sent1_rsc = remove_special_chars(sent1_na)\n",
    "    sent2_rsc = remove_special_chars(sent2_na)\n",
    "    low1 = lower(sent1_rsc)\n",
    "    low2 = lower(sent2_rsc)\n",
    "    stop1 = removeStopWords(low1)\n",
    "    stop2 = removeStopWords(low2)\n",
    "    token_stemming(stop1)\n",
    "    token_stemming(stop2)\n",
    "    documents = [sent1,sent2]\n",
    "    count_vectorizer =CountVectorizer(stop_words='english')\n",
    "    sparse_matrix = count_vectorizer.fit_transform(documents)\n",
    "    doc_term_matrix = sparse_matrix.todense()\n",
    "    dd = pd.DataFrame(doc_term_matrix, columns=count_vectorizer.get_feature_names(), index=['x','y'])\n",
    "    sim = (cosine_similarity(dd, dd)[0,1])\n",
    "    return render_template('index.html',prediction=sim)\n",
    "    \n",
    "    \n",
    "if __name__ == '__main__':\n",
    "    app.run(debug = True,use_reloader=False)"
   ]
  },
  {
   "cell_type": "code",
   "execution_count": null,
   "metadata": {},
   "outputs": [],
   "source": []
  },
  {
   "cell_type": "code",
   "execution_count": null,
   "metadata": {},
   "outputs": [],
   "source": []
  },
  {
   "cell_type": "code",
   "execution_count": null,
   "metadata": {},
   "outputs": [],
   "source": []
  }
 ],
 "metadata": {
  "kernelspec": {
   "display_name": "Python 3",
   "language": "python",
   "name": "python3"
  },
  "language_info": {
   "codemirror_mode": {
    "name": "ipython",
    "version": 3
   },
   "file_extension": ".py",
   "mimetype": "text/x-python",
   "name": "python",
   "nbconvert_exporter": "python",
   "pygments_lexer": "ipython3",
   "version": "3.6.5"
  }
 },
 "nbformat": 4,
 "nbformat_minor": 2
}
